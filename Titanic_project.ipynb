{
  "nbformat": 4,
  "nbformat_minor": 0,
  "metadata": {
    "colab": {
      "name": "Titanic_project.ipynb",
      "provenance": [],
      "collapsed_sections": []
    },
    "kernelspec": {
      "name": "python3",
      "display_name": "Python 3"
    },
    "language_info": {
      "name": "python"
    }
  },
  "cells": [
    {
      "cell_type": "markdown",
      "metadata": {
        "id": "wuIjmCE0Dhj4"
      },
      "source": [
        "# **Importing Pandas/Numpy/Seaborn/Matplotlib**\n",
        "\n",
        "---\n",
        "\n",
        "\n",
        "1.We will import pandas with `import` keyword\n",
        "\n",
        "2.Pandas is a python package which consist mainly two data structure:\n",
        "- Series\n",
        "- DataFrame\n"
      ]
    },
    {
      "cell_type": "code",
      "metadata": {
        "id": "IrPj_bS7Di3l"
      },
      "source": [
        "import pandas as pd\n",
        "import numpy as np\n",
        "import seaborn as sb\n",
        "import matplotlib.pyplot as plt"
      ],
      "execution_count": 1,
      "outputs": []
    },
    {
      "cell_type": "markdown",
      "metadata": {
        "id": "rVb9uwFvEIeU"
      },
      "source": [
        "# **Loading Titanic_database csv file**\n",
        "\n",
        "---\n",
        "\n",
        "\n",
        "\n",
        ">Now we will load our Titanic database .csv file into a pandas DataFrame by using pandas `read_csv()` function.\n",
        "\n",
        ">We will also look at first 5 rows of the database to have a look what type of data is actually present in which we need to analyze.\n",
        "this can be achieved by `head()` method."
      ]
    },
    {
      "cell_type": "code",
      "metadata": {
        "colab": {
          "base_uri": "https://localhost:8080/",
          "height": 206
        },
        "id": "d9SnnEcTEKub",
        "outputId": "a75afde5-77dd-47d1-e050-4d86b2d6c912"
      },
      "source": [
        "passengers=pd.read_csv('/content/Titanic database.csv')\n",
        "passengers.head()"
      ],
      "execution_count": 140,
      "outputs": [
        {
          "output_type": "execute_result",
          "data": {
            "text/html": [
              "<div>\n",
              "<style scoped>\n",
              "    .dataframe tbody tr th:only-of-type {\n",
              "        vertical-align: middle;\n",
              "    }\n",
              "\n",
              "    .dataframe tbody tr th {\n",
              "        vertical-align: top;\n",
              "    }\n",
              "\n",
              "    .dataframe thead th {\n",
              "        text-align: right;\n",
              "    }\n",
              "</style>\n",
              "<table border=\"1\" class=\"dataframe\">\n",
              "  <thead>\n",
              "    <tr style=\"text-align: right;\">\n",
              "      <th></th>\n",
              "      <th>PassengerId</th>\n",
              "      <th>Survived</th>\n",
              "      <th>Pclass</th>\n",
              "      <th>Name</th>\n",
              "      <th>Sex</th>\n",
              "      <th>Age</th>\n",
              "      <th>SibSp</th>\n",
              "      <th>Parch</th>\n",
              "      <th>Ticket</th>\n",
              "      <th>Fare</th>\n",
              "      <th>Cabin</th>\n",
              "      <th>Embarked</th>\n",
              "    </tr>\n",
              "  </thead>\n",
              "  <tbody>\n",
              "    <tr>\n",
              "      <th>0</th>\n",
              "      <td>1</td>\n",
              "      <td>0</td>\n",
              "      <td>3</td>\n",
              "      <td>Braund, Mr. Owen Harris</td>\n",
              "      <td>male</td>\n",
              "      <td>22.0</td>\n",
              "      <td>1</td>\n",
              "      <td>0</td>\n",
              "      <td>A/5 21171</td>\n",
              "      <td>7.2500</td>\n",
              "      <td>NaN</td>\n",
              "      <td>S</td>\n",
              "    </tr>\n",
              "    <tr>\n",
              "      <th>1</th>\n",
              "      <td>2</td>\n",
              "      <td>1</td>\n",
              "      <td>1</td>\n",
              "      <td>Cumings, Mrs. John Bradley (Florence Briggs Th...</td>\n",
              "      <td>female</td>\n",
              "      <td>38.0</td>\n",
              "      <td>1</td>\n",
              "      <td>0</td>\n",
              "      <td>PC 17599</td>\n",
              "      <td>71.2833</td>\n",
              "      <td>C85</td>\n",
              "      <td>C</td>\n",
              "    </tr>\n",
              "    <tr>\n",
              "      <th>2</th>\n",
              "      <td>3</td>\n",
              "      <td>1</td>\n",
              "      <td>3</td>\n",
              "      <td>Heikkinen, Miss. Laina</td>\n",
              "      <td>female</td>\n",
              "      <td>26.0</td>\n",
              "      <td>0</td>\n",
              "      <td>0</td>\n",
              "      <td>STON/O2. 3101282</td>\n",
              "      <td>7.9250</td>\n",
              "      <td>NaN</td>\n",
              "      <td>S</td>\n",
              "    </tr>\n",
              "    <tr>\n",
              "      <th>3</th>\n",
              "      <td>4</td>\n",
              "      <td>1</td>\n",
              "      <td>1</td>\n",
              "      <td>Futrelle, Mrs. Jacques Heath (Lily May Peel)</td>\n",
              "      <td>female</td>\n",
              "      <td>35.0</td>\n",
              "      <td>1</td>\n",
              "      <td>0</td>\n",
              "      <td>113803</td>\n",
              "      <td>53.1000</td>\n",
              "      <td>C123</td>\n",
              "      <td>S</td>\n",
              "    </tr>\n",
              "    <tr>\n",
              "      <th>4</th>\n",
              "      <td>5</td>\n",
              "      <td>0</td>\n",
              "      <td>3</td>\n",
              "      <td>Allen, Mr. William Henry</td>\n",
              "      <td>male</td>\n",
              "      <td>35.0</td>\n",
              "      <td>0</td>\n",
              "      <td>0</td>\n",
              "      <td>373450</td>\n",
              "      <td>8.0500</td>\n",
              "      <td>NaN</td>\n",
              "      <td>S</td>\n",
              "    </tr>\n",
              "  </tbody>\n",
              "</table>\n",
              "</div>"
            ],
            "text/plain": [
              "   PassengerId  Survived  Pclass  ...     Fare Cabin  Embarked\n",
              "0            1         0       3  ...   7.2500   NaN         S\n",
              "1            2         1       1  ...  71.2833   C85         C\n",
              "2            3         1       3  ...   7.9250   NaN         S\n",
              "3            4         1       1  ...  53.1000  C123         S\n",
              "4            5         0       3  ...   8.0500   NaN         S\n",
              "\n",
              "[5 rows x 12 columns]"
            ]
          },
          "metadata": {
            "tags": []
          },
          "execution_count": 140
        }
      ]
    },
    {
      "cell_type": "markdown",
      "metadata": {
        "id": "C8dGny6gFoTV"
      },
      "source": [
        "**Description of the attributes of the dataset**\n",
        "\n",
        "- PassengerId -> Unique passenger id\n",
        "- Survived -> Survival(0=NO;1=YES)\n",
        "- Pclass -> Passenger Class(1=1st class;2=2nd class;3=3rd class)\n",
        "- Name -> name of the passenger\n",
        "- Sex -> Male or Female\n",
        "- Age -> age of passenger\n",
        "- SibSp -> number of passenger's sibling/spouse Aboard \n",
        "- Parch -> number of passenger's parents/children Aboard \n",
        "- Ticket -> passenger's ticket no.\n",
        "- Fare -> Passenger's fare(British pound)\n",
        "- Cabin -> Passenger's cabin no.\n",
        "- Embarked -> port of embarkation(C=Cherbourg; Q=Queenstown; S=Southampton)"
      ]
    },
    {
      "cell_type": "markdown",
      "metadata": {
        "id": "EmOQwnqMKdD9"
      },
      "source": [
        "# **1.Relation b/w Survived attribute and Pclass attribute**\n",
        "\n",
        "---\n",
        "\n",
        "\n",
        "\n"
      ]
    },
    {
      "cell_type": "markdown",
      "metadata": {
        "id": "dHfCG47gxANF"
      },
      "source": [
        ">Here `c1s0`(class 1 survival 0) is a 2 dimentional pandas DataFrame in which we used boolean indexing such that `c1s0` has two columns `Pclass` and `Survived` and the contents i.e values in each row is any one of the\n",
        "combination:`(True,True)`;`(True,False)`;`(False,True)`;`(False,False)`.\n",
        "\n",
        ">Similarly just like `c1s0`  `c2s0` and `c3s0` are also 2 dimentional pandas DataFrame.\n",
        "\n",
        ">`x1`,`x2`,`x2` are 1 dimentional panda series with multi indexes and consists only 4 rows in it bceause there are only 4 unique combination,so the multiindex are as follows: `(True,True)`;`(True,False)`;`(False,True)`;`(False,False)`."
      ]
    },
    {
      "cell_type": "code",
      "metadata": {
        "colab": {
          "base_uri": "https://localhost:8080/"
        },
        "id": "Fq45XqFwMsBt",
        "outputId": "295060eb-dbe7-492f-8194-76574c2cd626"
      },
      "source": [
        "c1s0=passengers[['Pclass','Survived']]==[1,0]\n",
        "c2s0=passengers[['Pclass','Survived']]==[2,0]\n",
        "c3s0=passengers[['Pclass','Survived']]==[3,0]\n",
        "x1=c1s0.value_counts()\n",
        "x2=c2s0.value_counts()\n",
        "x3=c3s0.value_counts()\n",
        "print('the number of people who died and belong to 1st class:',x1[(True,True)])\n",
        "print('the number of people who died and belong to 2nd class:',x2[(True,True)])\n",
        "print('the number of people who died and belong to 3rd class:',x3[(True,True)])"
      ],
      "execution_count": 3,
      "outputs": [
        {
          "output_type": "stream",
          "text": [
            "the number of people who died and belong to 1st class: 80\n",
            "the number of people who died and belong to 2nd class: 97\n",
            "the number of people who died and belong to 3rd class: 372\n"
          ],
          "name": "stdout"
        }
      ]
    },
    {
      "cell_type": "markdown",
      "metadata": {
        "id": "GQVfXxQypTxh"
      },
      "source": [
        "**CONCLUSION:**\n",
        "\n",
        ">The number of people who died and belong to 3rd class is very more as compared to other classes i.e the died people percentage is greater in 3rd class.\n",
        "\n",
        "> Hence as a conclusion we can say the 3rd class was not constructed well and hence  was more dangerous than other classes.\n",
        "\n",
        "\n",
        "\n",
        "\n",
        "\n"
      ]
    },
    {
      "cell_type": "markdown",
      "metadata": {
        "id": "OwY2l4M9236l"
      },
      "source": [
        "## **Data Visualization of Relation b/w Survived attribute and Pclass attribute**\n",
        "\n",
        "> This can also be visualized using Bar garph with the help of seaborn's `countplot()` function. "
      ]
    },
    {
      "cell_type": "code",
      "metadata": {
        "colab": {
          "base_uri": "https://localhost:8080/",
          "height": 297
        },
        "id": "5kw6HiP6qfFN",
        "outputId": "d4f1f457-5e0f-4c92-b76f-921b91dcb0b2"
      },
      "source": [
        "i1={'died':[' no of 1st class passengers who died']*x1[(True,True)]}\n",
        "i2=[{'died':'no of 2nd class passengers who died'}]*x2[(True,True)]\n",
        "i3=[{'died':'no of 3rd class passengers who died'}]*x3[(True,True)]\n",
        "c1died=pd.DataFrame(i1)\n",
        "c2died=pd.DataFrame(i2)\n",
        "c3died=pd.DataFrame(i3)\n",
        "yaxis=c1died.append(c2died).append(c3died)\n",
        "sb.countplot(data=yaxis,y='died')"
      ],
      "execution_count": 68,
      "outputs": [
        {
          "output_type": "execute_result",
          "data": {
            "text/plain": [
              "<matplotlib.axes._subplots.AxesSubplot at 0x7fed8e779a50>"
            ]
          },
          "metadata": {
            "tags": []
          },
          "execution_count": 68
        },
        {
          "output_type": "display_data",
          "data": {
            "image/png": "[encoded data removed]",
            "text/plain": [
              "<Figure size 432x288 with 1 Axes>"
            ]
          },
          "metadata": {
            "tags": [],
            "needs_background": "light"
          }
        }
      ]
    },
    {
      "cell_type": "markdown",
      "metadata": {
        "id": "llpvrRRWdmds"
      },
      "source": [
        "# **2.Relation b/w Survived attribute and Sex attribute**\n",
        "\n",
        "---"
      ]
    },
    {
      "cell_type": "markdown",
      "metadata": {
        "id": "zrPtBj1wD-oY"
      },
      "source": [
        "\n",
        "> Here first we check for `NaN `values with the help of `isna()` function in combination with `sum()` function.\n",
        "\n",
        "> Then we created two 2-dimentional Pandas DataFrame `sms0`(sex male survival 0) and `sfs0`(sex female survival 0) which contains True,False values i.e boolean values.\n",
        "\n",
        "> the variable `ms`(male survival) and `fs`(female survival) are two 1-dimentional pandas Series contains 4 rows each with muti indexs as  `(True,True)`;`(True,False)`;`(False,True)`;`(False,False)`.\n",
        "\n"
      ]
    },
    {
      "cell_type": "code",
      "metadata": {
        "colab": {
          "base_uri": "https://localhost:8080/"
        },
        "id": "6PhzjiyzeFXL",
        "outputId": "6c425d5e-a644-45ea-e9c2-3e831297ca72"
      },
      "source": [
        "#first lets check that is there any Nan value in 'Sex' column\n",
        "x=passengers[['Sex','Survived']]\n",
        "if x.isna().sum()['Sex']==0:\n",
        "  print('There is no NaN value')\n",
        "else:\n",
        "  print('Sex column contains unknown values other than male and female')\n",
        "#Now lets analyse how many male died and how many female died.\n",
        "sms0=passengers[['Sex','Survived']]==['male',0]\n",
        "sfs0=passengers[['Sex','Survived']]==['female',0]\n",
        "ms=sms0.value_counts()\n",
        "fs=sfs0.value_counts()\n",
        "print('The number of male that died are:',ms[(True,True)])\n",
        "print('The number of female that died are:',fs[(True,True)])"
      ],
      "execution_count": 5,
      "outputs": [
        {
          "output_type": "stream",
          "text": [
            "There is no NaN value\n",
            "The number of male that died are: 468\n",
            "The number of female that died are: 81\n"
          ],
          "name": "stdout"
        }
      ]
    },
    {
      "cell_type": "markdown",
      "metadata": {
        "id": "Klf2uhSUngxZ"
      },
      "source": [
        "**CONCLUSION:**\n",
        "\n",
        "> The number of male who died was more than the number of female who died with a huge difference.\n",
        "\n",
        ">Hence as a conclusion we can say male were more prone to death as compared to female."
      ]
    },
    {
      "cell_type": "markdown",
      "metadata": {
        "id": "4hGRkZCClbvi"
      },
      "source": [
        "## **Data Visualization of Relation b/w Survived attribute and Sex attribute**\n",
        "\n",
        "> This can also be visualized using Bar garph with the help of seaborn's `countplot()` function. "
      ]
    },
    {
      "cell_type": "code",
      "metadata": {
        "colab": {
          "base_uri": "https://localhost:8080/",
          "height": 298
        },
        "id": "IJkk2Il-lbFK",
        "outputId": "0ead4eed-9b9d-4390-bf91-47d0ff20f50e"
      },
      "source": [
        "item1={'died':['Male_died']*ms[(True,True)]}\n",
        "item2=[{'died':'Female_died'}]*fs[(True,True)]\n",
        "md=pd.DataFrame(item1)\n",
        "fd=pd.DataFrame(item2)\n",
        "xaxis=md.append(fd)\n",
        "sb.countplot(data=xaxis,x='died')"
      ],
      "execution_count": 9,
      "outputs": [
        {
          "output_type": "execute_result",
          "data": {
            "text/plain": [
              "<matplotlib.axes._subplots.AxesSubplot at 0x7fed918b7510>"
            ]
          },
          "metadata": {
            "tags": []
          },
          "execution_count": 9
        },
        {
          "output_type": "display_data",
          "data": {
            "image/png": "[encoded data removed]",
            "text/plain": [
              "<Figure size 432x288 with 1 Axes>"
            ]
          },
          "metadata": {
            "tags": [],
            "needs_background": "light"
          }
        }
      ]
    },
    {
      "cell_type": "markdown",
      "metadata": {
        "id": "eJmcPoEdnKLC"
      },
      "source": [
        "# **3.Relation b/w Survived attribute, SibSp attribute and Parch attribute**\n",
        "\n",
        "---\n",
        "\n"
      ]
    },
    {
      "cell_type": "markdown",
      "metadata": {
        "id": "a53wkN7P4u7K"
      },
      "source": [
        "\n",
        "> `new_df` is a new dataframe with columns `'SibSp','Parch','Survived'` which consist values either` True` or `False` in each column.\n",
        "\n",
        "> if for column `'SibSp','Parch','Survived'` the value is `True,True,True` respectively then he /she is alone and did not survived,similary if values are `False,False,True` respecively then  he /she is not alone and did not survived"
      ]
    },
    {
      "cell_type": "code",
      "metadata": {
        "colab": {
          "base_uri": "https://localhost:8080/"
        },
        "id": "3QN7oRaEn63m",
        "outputId": "2f9336d0-0bb9-4a25-eb76-1cedeedbaac0"
      },
      "source": [
        "new_df=passengers[['SibSp','Parch','Survived']]==[0,0,0]\n",
        "alonedied=(new_df.value_counts())[(True,True,True)]\n",
        "notalonedied=(new_df.value_counts())[(False,False,True)]\n",
        "print('people who were alone and are dead:',alonedied)\n",
        "print('People who were with someone and are dead:',notalonedied)"
      ],
      "execution_count": 65,
      "outputs": [
        {
          "output_type": "stream",
          "text": [
            "people who were alone and are dead: 374\n",
            "People who were with someone and are dead: 80\n"
          ],
          "name": "stdout"
        }
      ]
    },
    {
      "cell_type": "markdown",
      "metadata": {
        "id": "L35EfbIu2sxY"
      },
      "source": [
        "**CONCLUSION:**\n",
        "\n",
        "> People who were travelling alone and died are more than the people who were travelling with someone and died.\n",
        "\n",
        "> Hence as a conclusion we can say alone people were more prone to death rather than travelling with family."
      ]
    },
    {
      "cell_type": "markdown",
      "metadata": {
        "id": "jtrzwMcD3Wx1"
      },
      "source": [
        "## **Data Visualization of Relation b/w Survived attribute, SibSp attribute and Parch attribute**\n",
        "\n",
        "> This can also be visualized using Pie chart with the help of matplotlib's `pie()` function and to display the pie chat we use `show()` function.\n",
        "\n",
        "\n"
      ]
    },
    {
      "cell_type": "code",
      "metadata": {
        "colab": {
          "base_uri": "https://localhost:8080/",
          "height": 248
        },
        "id": "mEYt7EYx3UgF",
        "outputId": "a150940d-9462-47c3-9d25-caac9e663e3a"
      },
      "source": [
        "visual=pd.Series(index=['Alone_died','Not_Alone_died'],data=[alonedied,notalonedied])\n",
        "plt.pie(visual,labels=visual.index)\n",
        "plt.show()"
      ],
      "execution_count": 67,
      "outputs": [
        {
          "output_type": "display_data",
          "data": {
            "image/png": "[encoded data removed]",
            "text/plain": [
              "<Figure size 432x288 with 1 Axes>"
            ]
          },
          "metadata": {
            "tags": []
          }
        }
      ]
    },
    {
      "cell_type": "markdown",
      "metadata": {
        "id": "bvUS55bgQieE"
      },
      "source": [
        "# **4.Relation b/w Pclass attribute and Fare attribute**\n",
        "\n",
        "---"
      ]
    },
    {
      "cell_type": "markdown",
      "metadata": {
        "id": "lNcz69NJEJlH"
      },
      "source": [
        "\n",
        "> `c1f `(class 1 fare) is a 2 dimentional pandas DataFrame in which we have droped i.e deleted all the rows whose `'Pclass'` value is either 2 or 3,hence only those rows are there whose `'Pclass'` value is 1\n",
        "\n",
        "> Similarly `c2f` and `c3f` are 2 dimentional pandas DataFramein which only those rows are there whose `'Pclass'` value is 2 and 3 respectively.\n"
      ]
    },
    {
      "cell_type": "code",
      "metadata": {
        "colab": {
          "base_uri": "https://localhost:8080/"
        },
        "id": "0YEcw1jBJXmb",
        "outputId": "20a318ef-70a1-4193-b19f-7ce2b7d1680b"
      },
      "source": [
        "new=passengers[['Pclass','Fare']]\n",
        "indx1=new[(new['Pclass']==3) | (new['Pclass']==2)].index\n",
        "c1f=new.drop(indx1)#dropped /delete all the rows that contain 'Pclass' equal to 3 or 2\n",
        "print('The average fare of 1st class passengers is:'+str(c1f['Fare'].sum()/c1f.shape[0])+' pound')\n",
        "\n",
        "indx2=new[(new['Pclass']==1) | (new['Pclass']==3)].index\n",
        "c2f=new.drop(indx2)#dropped /delete all the rows that contain 'Pclass' equal to 1 or 3\n",
        "print('The average fare of 2nd class passengers is:'+str(c2f['Fare'].sum()/c2f.shape[0])+' pound')\n",
        "\n",
        "indx3=new[(new['Pclass']==1) | (new['Pclass']==2)].index\n",
        "c3f=new.drop(indx3)#dropped /delete all the rows that contain 'Pclass' equal to 1 or 2\n",
        "print('The average fare of 3rd class passengers is:'+str(c3f['Fare'].sum()/c3f.shape[0])+' pound')\n"
      ],
      "execution_count": 170,
      "outputs": [
        {
          "output_type": "stream",
          "text": [
            "The average fare of 1st class passengers is:84.1546875 pound\n",
            "The average fare of 2nd class passengers is:20.662183152173913 pound\n",
            "The average fare of 3rd class passengers is:13.675550101832993 pound\n"
          ],
          "name": "stdout"
        }
      ]
    },
    {
      "cell_type": "markdown",
      "metadata": {
        "id": "TCV9JvLIkObT"
      },
      "source": [
        "**CONCLUSION:**\n",
        "\n",
        "> The average fare of 1st class passengers is very expensive as compared to 2ndclass and 3rd class.whereas,2nd class average fare and 3rd class average fare was very close to each other and also very cheap.\n",
        "\n",
        "> Hence as a conclusion 1st class passengers were very rich.\n",
        "\n",
        "\n",
        "\n"
      ]
    },
    {
      "cell_type": "markdown",
      "metadata": {
        "id": "mmnEaFPwltj3"
      },
      "source": [
        "## **Data Visualization of Relation b/w Pclass attribute and Fare attribute**\n",
        "\n",
        "> This can also be visualized using Pie chart with the help of matplotlib's `pie()` function and to display the pie chat we use `show()` function.`colors` parameter is also used to set different colors for different labels.\n",
        "\n"
      ]
    },
    {
      "cell_type": "code",
      "metadata": {
        "colab": {
          "base_uri": "https://localhost:8080/",
          "height": 248
        },
        "id": "lctsC8ANiHim",
        "outputId": "337df0ad-b72d-46b2-c4e7-3880b1a4eb28"
      },
      "source": [
        "new_series=pd.Series([c1f['Fare'].sum()/c1f.shape[0],c2f['Fare'].sum()/c2f.shape[0],c3f['Fare'].sum()/c3f.shape[0]])\n",
        "new_series.index=['AvgFare_of_1stclass','AvgFare_of_2ndclass','AvgFare_of_3rdclass']\n",
        "plt.pie(new_series,labels=new_series.index,colors=['black','blue','green'])\n",
        "plt.show()"
      ],
      "execution_count": 175,
      "outputs": [
        {
          "output_type": "display_data",
          "data": {
            "image/png": "[encoded data removed]",
            "text/plain": [
              "<Figure size 432x288 with 1 Axes>"
            ]
          },
          "metadata": {
            "tags": []
          }
        }
      ]
    },
    {
      "cell_type": "markdown",
      "metadata": {
        "id": "SIdzqLDVrLH1"
      },
      "source": [
        "# **5.Relation b/w Survived attribute and Age attribute**\n",
        "\n",
        "---"
      ]
    },
    {
      "cell_type": "markdown",
      "metadata": {
        "id": "867doHW6ERAQ"
      },
      "source": [
        "> First we eliminate all rows from `df` which contains `NaN`values and created dfnew then we eliminated all rows which has `'Survived'` value as 1.\n",
        "\n",
        ">After elimination of all passengers who lived we then eliminated all rows whose `'Age'` is gerater than equal to 18 to find how many young people died with the help of `age_0_18` variable\n",
        "\n",
        ">Similarly,from `dfnew` we eliminated all rows whose `'Age'` is between the range [18,60) to find how many mature people died with `age_18_60` variable\n",
        "\n",
        "> Similarly,from `dfnew` we eliminated all rows whose `'Age'` is greater than equal to 60 to find how many Senior passengers died with `age_60ab` variable\n"
      ]
    },
    {
      "cell_type": "code",
      "metadata": {
        "colab": {
          "base_uri": "https://localhost:8080/"
        },
        "id": "U8ZYZik_re6M",
        "outputId": "8ec53c19-c455-41e3-b6ba-d0cee5531de5"
      },
      "source": [
        "df=passengers[['Survived','Age']]\n",
        "dfnew=df.dropna(axis=0)#dropped /delete all the rows that contain 'Age' value as NaN\n",
        "dfnew=dfnew.drop(dfnew[dfnew['Survived']==1].index)\n",
        "\n",
        "age_0_18=dfnew.drop(dfnew[dfnew['Age']>=18.0].index)#dropped /delete all the rows that contain 'Age' greater than equal to 18\n",
        "print('The number of passengers whose age<18 and died in accident are:',age_0_18.shape[0])\n",
        "\n",
        "age_18_60=dfnew.drop(dfnew[dfnew['Age']<18.0].index)#dropped /delete all the rows that contain 'Age' less than 18\n",
        "age_18_60=dfnew.drop(dfnew[dfnew['Age']>=60.0].index)#dropped /delete all the rows that contain 'Age' greater than equal to 60\n",
        "print('The number of passengers whose 18<=age<60 and died in accident are:',age_18_60.shape[0])\n",
        "\n",
        "age_60ab=dfnew.drop(dfnew[dfnew['Age']<60.0].index)#dropped /delete all the rows that contain 'Age' less than 60\n",
        "print('The number of passengers whose age>=60 and died in accident are:',age_60ab.shape[0])\n"
      ],
      "execution_count": 169,
      "outputs": [
        {
          "output_type": "stream",
          "text": [
            "The number of passengers whose age<18 and died in accident are: 52\n",
            "The number of passengers whose 18<=age<60 and died in accident are: 405\n",
            "The number of passengers whose age>=60 and died in accident are: 19\n"
          ],
          "name": "stdout"
        }
      ]
    },
    {
      "cell_type": "markdown",
      "metadata": {
        "id": "OZ1MZexL8rox"
      },
      "source": [
        "**CONCLUSION:**\n",
        "\n",
        "\n",
        "> Mature passengers(Age>=18 and Age<60) died more than other age group passengers.\n",
        "\n",
        "> Hence as a conclusion young passengers(Age<18 ) and Senior passengers(Age>=60)  were more safe.\n",
        "\n",
        "\n",
        "\n"
      ]
    },
    {
      "cell_type": "markdown",
      "metadata": {
        "id": "DHdvu7ORBBhs"
      },
      "source": [
        "## **Data Visualization of Relation b/w Age attribute and Survived attribute**\n",
        "\n",
        "> This can also be visualized using Pie chart with the help of matplotlib's `pie()` function and to display the pie chat we use `show()` function.`colors` parameter is also used to set different colors for different labels.\n",
        "\n"
      ]
    },
    {
      "cell_type": "code",
      "metadata": {
        "colab": {
          "base_uri": "https://localhost:8080/",
          "height": 248
        },
        "id": "e3VB1hQyBAYm",
        "outputId": "d0bbe173-68a2-462f-9d9a-db929bbb9199"
      },
      "source": [
        "ageseries=pd.Series([age_0_18.shape[0],age_18_60.shape[0],age_60ab.shape[0]])\n",
        "ageseries.index=['Young passenger who died','Mature passenger who died','Senior passenger who died']\n",
        "plt.pie(ageseries,labels=ageseries.index,colors=['blue','black','green'])\n",
        "plt.show()"
      ],
      "execution_count": 174,
      "outputs": [
        {
          "output_type": "display_data",
          "data": {
            "image/png": "[encoded data removed]",
            "text/plain": [
              "<Figure size 432x288 with 1 Axes>"
            ]
          },
          "metadata": {
            "tags": []
          }
        }
      ]
    },
    {
      "cell_type": "markdown",
      "metadata": {
        "id": "vKgdEvW-CrQ1"
      },
      "source": [
        "# **FINAL CONCLUSION**\n",
        "\n",
        "---\n",
        "*  The number of people who died and belong to 3rd class is very more as compared to other classes i.e the died people percentage is greater in 3rd class.\n",
        "\n",
        "*  The number of male who died was more than the number of female who died with a huge difference.\n",
        "\n",
        "* People who were travelling alone and died are more than the people who were travelling with someone and died.\n",
        "\n",
        "*  The average fare of 1st class passengers is very expensive as compared to 2ndclass and 3rd class.whereas,2nd class average fare and 3rd class average fare was very close to each other and also very cheap.\n",
        "\n",
        "* Mature passengers(Age>=18 and Age<60) died more than other age group passengers.\n",
        "\n",
        "\n",
        "\n",
        "\n",
        "\n",
        "\n",
        "\n",
        "\n",
        "\n"
      ]
    }
  ]
}