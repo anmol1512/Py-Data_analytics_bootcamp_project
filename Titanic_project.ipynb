{
  "nbformat": 4,
  "nbformat_minor": 0,
  "metadata": {
    "colab": {
      "name": "Titanic_project.ipynb",
      "provenance": [],
      "collapsed_sections": []
    },
    "kernelspec": {
      "name": "python3",
      "display_name": "Python 3"
    },
    "language_info": {
      "name": "python"
    }
  },
  "cells": [
    {
      "cell_type": "markdown",
      "metadata": {
        "id": "wuIjmCE0Dhj4"
      },
      "source": [
        "# **Importing Pandas/Numpy/Seaborn/Matplotlib**\n",
        "\n",
        "---\n",
        "\n",
        "\n",
        "1.We will import pandas with `import` keyword\n",
        "\n",
        "2.Pandas is a python package which consist mainly two data structure:\n",
        "- Series\n",
        "- DataFrame\n"
      ]
    },
    {
      "cell_type": "code",
      "metadata": {
        "id": "IrPj_bS7Di3l"
      },
      "source": [
        "import pandas as pd\n",
        "import numpy as np\n",
        "import seaborn as sb\n",
        "import matplotlib.pyplot as plt"
      ],
      "execution_count": 3,
      "outputs": []
    },
    {
      "cell_type": "markdown",
      "metadata": {
        "id": "rVb9uwFvEIeU"
      },
      "source": [
        "# **Loading Titanic_database csv file**\n",
        "\n",
        "---\n",
        "\n",
        "\n",
        "\n",
        ">Now we will load our Titanic database .csv file into a pandas DataFrame by using pandas `read_csv()` function.\n",
        "\n",
        ">We will also look at first 5 rows of the database to have a look what type of data is actually present in which we need to analyze.\n",
        "this can be achieved by `head()` method."
      ]
    },
    {
      "cell_type": "code",
      "metadata": {
        "colab": {
          "base_uri": "https://localhost:8080/",
          "height": 206
        },
        "id": "d9SnnEcTEKub",
        "outputId": "ba66ef28-2ea7-4500-d554-a02e425c6dc9"
      },
      "source": [
        "passengers=pd.read_csv('/content/Titanic database.csv')\n",
        "passengers.head()"
      ],
      "execution_count": 4,
      "outputs": [
        {
          "output_type": "execute_result",
          "data": {
            "text/html": [
              "<div>\n",
              "<style scoped>\n",
              "    .dataframe tbody tr th:only-of-type {\n",
              "        vertical-align: middle;\n",
              "    }\n",
              "\n",
              "    .dataframe tbody tr th {\n",
              "        vertical-align: top;\n",
              "    }\n",
              "\n",
              "    .dataframe thead th {\n",
              "        text-align: right;\n",
              "    }\n",
              "</style>\n",
              "<table border=\"1\" class=\"dataframe\">\n",
              "  <thead>\n",
              "    <tr style=\"text-align: right;\">\n",
              "      <th></th>\n",
              "      <th>PassengerId</th>\n",
              "      <th>Survived</th>\n",
              "      <th>Pclass</th>\n",
              "      <th>Name</th>\n",
              "      <th>Sex</th>\n",
              "      <th>Age</th>\n",
              "      <th>SibSp</th>\n",
              "      <th>Parch</th>\n",
              "      <th>Ticket</th>\n",
              "      <th>Fare</th>\n",
              "      <th>Cabin</th>\n",
              "      <th>Embarked</th>\n",
              "    </tr>\n",
              "  </thead>\n",
              "  <tbody>\n",
              "    <tr>\n",
              "      <th>0</th>\n",
              "      <td>1</td>\n",
              "      <td>0</td>\n",
              "      <td>3</td>\n",
              "      <td>Braund, Mr. Owen Harris</td>\n",
              "      <td>male</td>\n",
              "      <td>22.0</td>\n",
              "      <td>1</td>\n",
              "      <td>0</td>\n",
              "      <td>A/5 21171</td>\n",
              "      <td>7.2500</td>\n",
              "      <td>NaN</td>\n",
              "      <td>S</td>\n",
              "    </tr>\n",
              "    <tr>\n",
              "      <th>1</th>\n",
              "      <td>2</td>\n",
              "      <td>1</td>\n",
              "      <td>1</td>\n",
              "      <td>Cumings, Mrs. John Bradley (Florence Briggs Th...</td>\n",
              "      <td>female</td>\n",
              "      <td>38.0</td>\n",
              "      <td>1</td>\n",
              "      <td>0</td>\n",
              "      <td>PC 17599</td>\n",
              "      <td>71.2833</td>\n",
              "      <td>C85</td>\n",
              "      <td>C</td>\n",
              "    </tr>\n",
              "    <tr>\n",
              "      <th>2</th>\n",
              "      <td>3</td>\n",
              "      <td>1</td>\n",
              "      <td>3</td>\n",
              "      <td>Heikkinen, Miss. Laina</td>\n",
              "      <td>female</td>\n",
              "      <td>26.0</td>\n",
              "      <td>0</td>\n",
              "      <td>0</td>\n",
              "      <td>STON/O2. 3101282</td>\n",
              "      <td>7.9250</td>\n",
              "      <td>NaN</td>\n",
              "      <td>S</td>\n",
              "    </tr>\n",
              "    <tr>\n",
              "      <th>3</th>\n",
              "      <td>4</td>\n",
              "      <td>1</td>\n",
              "      <td>1</td>\n",
              "      <td>Futrelle, Mrs. Jacques Heath (Lily May Peel)</td>\n",
              "      <td>female</td>\n",
              "      <td>35.0</td>\n",
              "      <td>1</td>\n",
              "      <td>0</td>\n",
              "      <td>113803</td>\n",
              "      <td>53.1000</td>\n",
              "      <td>C123</td>\n",
              "      <td>S</td>\n",
              "    </tr>\n",
              "    <tr>\n",
              "      <th>4</th>\n",
              "      <td>5</td>\n",
              "      <td>0</td>\n",
              "      <td>3</td>\n",
              "      <td>Allen, Mr. William Henry</td>\n",
              "      <td>male</td>\n",
              "      <td>35.0</td>\n",
              "      <td>0</td>\n",
              "      <td>0</td>\n",
              "      <td>373450</td>\n",
              "      <td>8.0500</td>\n",
              "      <td>NaN</td>\n",
              "      <td>S</td>\n",
              "    </tr>\n",
              "  </tbody>\n",
              "</table>\n",
              "</div>"
            ],
            "text/plain": [
              "   PassengerId  Survived  Pclass  ...     Fare Cabin  Embarked\n",
              "0            1         0       3  ...   7.2500   NaN         S\n",
              "1            2         1       1  ...  71.2833   C85         C\n",
              "2            3         1       3  ...   7.9250   NaN         S\n",
              "3            4         1       1  ...  53.1000  C123         S\n",
              "4            5         0       3  ...   8.0500   NaN         S\n",
              "\n",
              "[5 rows x 12 columns]"
            ]
          },
          "metadata": {
            "tags": []
          },
          "execution_count": 4
        }
      ]
    },
    {
      "cell_type": "markdown",
      "metadata": {
        "id": "C8dGny6gFoTV"
      },
      "source": [
        "**Description of the attributes of the dataset**\n",
        "\n",
        "- PassengerId -> Unique passenger id\n",
        "- Survived -> Survival(0=NO;1=YES)\n",
        "- Pclass -> Passenger Class(1=1st class;2=2nd class;3=3rd class)\n",
        "- Name -> name of the passenger\n",
        "- Sex -> Male or Female\n",
        "- Age -> age of passenger\n",
        "- SibSp -> number of passenger's sibling/spouse Aboard \n",
        "- Parch -> number of passenger's parents/children Aboard \n",
        "- Ticket -> passenger's ticket no.\n",
        "- Fare -> Passenger's fare(British pound)\n",
        "- Cabin -> Passenger's cabin no.\n",
        "- Embarked -> port of embarkation(C=Cherbourg; Q=Queenstown; S=Southampton)"
      ]
    },
    {
      "cell_type": "markdown",
      "metadata": {
        "id": "EmOQwnqMKdD9"
      },
      "source": [
        "# **Relation b/w Survived attribute and Pclass attribute**\n",
        "\n",
        "---\n",
        "\n",
        "\n",
        "\n"
      ]
    },
    {
      "cell_type": "markdown",
      "metadata": {
        "id": "dHfCG47gxANF"
      },
      "source": [
        ">Here `c1s0`(class 1 survival 0) is a 2 dimentional pandas DataFrame in which we used boolean indexing such that `c1s0` has two columns `Pclass` and `Survived` and the contents i.e values in each row is any one of the\n",
        "combination:`(True,True)`;`(True,False)`;`(False,True)`;`(False,False)`.\n",
        "\n",
        ">Similarly just like `c1s0`  `c2s0` and `c3s0` are also 2 dimentional pandas DataFrame.\n",
        "\n",
        ">`x1`,`x2`,`x2` are 1 dimentional panda series with multi indexes and consists only 4 rows in it bceause there are only 4 unique combination,so the multiindex are as follows: `(True,True)`;`(True,False)`;`(False,True)`;`(False,False)`."
      ]
    },
    {
      "cell_type": "code",
      "metadata": {
        "colab": {
          "base_uri": "https://localhost:8080/"
        },
        "id": "Fq45XqFwMsBt",
        "outputId": "025dd052-72ad-40ce-e78a-0d0df6b6066f"
      },
      "source": [
        "c1s0=passengers[['Pclass','Survived']]==[1,0]\n",
        "c2s0=passengers[['Pclass','Survived']]==[2,0]\n",
        "c3s0=passengers[['Pclass','Survived']]==[3,0]\n",
        "x1=c1s0.value_counts()\n",
        "x2=c2s0.value_counts()\n",
        "x3=c3s0.value_counts()\n",
        "print('the number of people who died and belong to 1st class:',x1[(True,True)])\n",
        "print('the number of people who died and belong to 2nd class:',x2[(True,True)])\n",
        "print('the number of people who died and belong to 3rd class:',x3[(True,True)])"
      ],
      "execution_count": null,
      "outputs": [
        {
          "output_type": "stream",
          "text": [
            "the number of people who died and belong to 1st class: 80\n",
            "the number of people who died and belong to 2nd class: 97\n",
            "the number of people who died and belong to 3rd class: 372\n"
          ],
          "name": "stdout"
        }
      ]
    },
    {
      "cell_type": "markdown",
      "metadata": {
        "id": "GQVfXxQypTxh"
      },
      "source": [
        "**CONCLUSION:**\n",
        "\n",
        ">The number of people who died and belong to 3rd class is very more as compared to other classes i.e the died people percentage is greater in 3rd class\n",
        "\n",
        "> Hence as a conclusion we can say the 3rd class was not constructed well and hence  was more dangerous than other classes.\n",
        "\n",
        "\n",
        "\n",
        "\n",
        "\n"
      ]
    },
    {
      "cell_type": "markdown",
      "metadata": {
        "id": "OwY2l4M9236l"
      },
      "source": [
        "## **Data Visualization of Relation b/w Survived attribute and Pclass attribute**\n",
        "\n",
        "> This can also be visualized using Bar garph with the help of seaborn's `countplot()` function. "
      ]
    },
    {
      "cell_type": "code",
      "metadata": {
        "colab": {
          "base_uri": "https://localhost:8080/",
          "height": 297
        },
        "id": "5kw6HiP6qfFN",
        "outputId": "6e7de3fb-fe46-4769-e221-a810cd434cb2"
      },
      "source": [
        "i1={'died':[' no of 1st class passengers who died']*x1[(True,True)]}\n",
        "i2=[{'died':'no of 2nd class passengers who died'}]*x2[(True,True)]\n",
        "i3=[{'died':'no of 3rd class passengers who died'}]*x3[(True,True)]\n",
        "c1died=pd.DataFrame(i1)\n",
        "c2died=pd.DataFrame(i2)\n",
        "c3died=pd.DataFrame(i3)\n",
        "xaxis=c1died.append(c2died).append(c3died)\n",
        "sb.countplot(data=xaxis,y='died')"
      ],
      "execution_count": null,
      "outputs": [
        {
          "output_type": "execute_result",
          "data": {
            "text/plain": [
              "<matplotlib.axes._subplots.AxesSubplot at 0x7f4c8a620ad0>"
            ]
          },
          "metadata": {
            "tags": []
          },
          "execution_count": 95
        },
        {
          "output_type": "display_data",
          "data": {
            "image/png": "[encoded data removed]",
            "text/plain": [
              "<Figure size 432x288 with 1 Axes>"
            ]
          },
          "metadata": {
            "tags": [],
            "needs_background": "light"
          }
        }
      ]
    },
    {
      "cell_type": "markdown",
      "metadata": {
        "id": "llpvrRRWdmds"
      },
      "source": [
        "# **Relation b/w Survived attribute and Sex attribute**\n",
        "\n",
        "---\n",
        "\n",
        "> Here first we check for `NaN `values with the help of `isna()` function in combination with `sum()` function.\n",
        "\n",
        "> Then we created two 2-dimentional Pandas DataFrame `sms0`(sex male survival 0) and `sfs0`(sex female survival 0) which contains True,False values i.e boolean values.\n",
        "\n",
        "> the variable `ms`(male survival) and `fs`(female survival) are two 1-dimentional pandas Series contains 4 rows each with muti indexs as  `(True,True)`;`(True,False)`;`(False,True)`;`(False,False)`.\n",
        "\n"
      ]
    },
    {
      "cell_type": "code",
      "metadata": {
        "colab": {
          "base_uri": "https://localhost:8080/"
        },
        "id": "6PhzjiyzeFXL",
        "outputId": "b046cb04-5838-4c4a-b9f8-403538899264"
      },
      "source": [
        "#first lets check that is there any Nan value in 'Sex' column\n",
        "x=passengers[['Sex','Survived']]\n",
        "if x.isna().sum()['Sex']==0:\n",
        "  print('There is no NaN value')\n",
        "else:\n",
        "  print('Sex column contains unknown values other than male and female')\n",
        "#Now lets analyse how many male died and how many female died.\n",
        "sms0=passengers[['Sex','Survived']]==['male',0]\n",
        "sfs0=passengers[['Sex','Survived']]==['female',0]\n",
        "ms=sms0.value_counts()\n",
        "fs=sfs0.value_counts()\n",
        "print('The number of male that died are:',ms[(True,True)])\n",
        "print('The number of female that died are:',fs[(True,True)])"
      ],
      "execution_count": 18,
      "outputs": [
        {
          "output_type": "stream",
          "text": [
            "There is no NaN value\n",
            "The number of male that died are: 468\n",
            "The number of female that died are: 81\n"
          ],
          "name": "stdout"
        }
      ]
    },
    {
      "cell_type": "markdown",
      "metadata": {
        "id": "Klf2uhSUngxZ"
      },
      "source": [
        "**CONCLUSION:**\n",
        "\n",
        "> The number of male who died was more than the number of female who died with a huge difference.\n",
        "\n",
        ">Hence as a conclusion we can say male were more prone to death as compared to female."
      ]
    },
    {
      "cell_type": "markdown",
      "metadata": {
        "id": "4hGRkZCClbvi"
      },
      "source": [
        "## **Data Visualization of Relation b/w Survived attribute and Sex attribute**\n",
        "\n",
        "> This can also be visualized using Bar garph with the help of seaborn's `countplot()` function. "
      ]
    },
    {
      "cell_type": "code",
      "metadata": {
        "colab": {
          "base_uri": "https://localhost:8080/",
          "height": 298
        },
        "id": "IJkk2Il-lbFK",
        "outputId": "2d022591-7ea7-4531-8238-028b4b1c6d8e"
      },
      "source": [
        "item1={'died':['Male_died']*ms[(True,True)]}\n",
        "item2=[{'died':'Female_died'}]*fs[(True,True)]\n",
        "md=pd.DataFrame(item1)\n",
        "fd=pd.DataFrame(item2)\n",
        "xaxis=md.append(fd)\n",
        "sb.countplot(data=xaxis,x='died')"
      ],
      "execution_count": 21,
      "outputs": [
        {
          "output_type": "execute_result",
          "data": {
            "text/plain": [
              "<matplotlib.axes._subplots.AxesSubplot at 0x7fa114aae050>"
            ]
          },
          "metadata": {
            "tags": []
          },
          "execution_count": 21
        },
        {
          "output_type": "display_data",
          "data": {
            "image/png": "[encoded data removed]",
            "text/plain": [
              "<Figure size 432x288 with 1 Axes>"
            ]
          },
          "metadata": {
            "tags": [],
            "needs_background": "light"
          }
        }
      ]
    }
  ]
}